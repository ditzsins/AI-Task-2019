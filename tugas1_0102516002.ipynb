{
 "cells": [
  {
   "cell_type": "markdown",
   "metadata": {
    "colab_type": "text",
    "id": "EFBm5EUgwMRf"
   },
   "source": [
    "# Kecerdasan Buatan\n",
    "\n",
    "## Tugas 1: Model Linear\n",
    "\n",
    "### Mekanisme\n",
    "\n",
    "Anda hanya diwajibkan untuk mengumpulkan file ini saja ke uploader yang disediakan di http://elearning2.uai.ac.id/. Ganti nama file ini saat pengumpulan menjadi tugas1_NIM.ipynb.\n",
    "\n",
    "**Keterlambatan**: Pengumpulan tugas yang melebihi tenggat yang telah ditentukan tidak akan diterima. Keterlambatan akan berakibat pada nilai nol untuk tugas ini.\n",
    "\n",
    "**Kolaborasi**: Anda diperbolehkan untuk berdiskusi dengan teman Anda, tetapi dilarang keras menyalin kode maupun tulisan dari teman Anda.\n",
    "\n",
    "### Petunjuk\n",
    "\n",
    "_Packages_ yang Anda akan gunakan dalam mengerjakan tugas ini antara lain:\n",
    "\n",
    "- keras\n",
    "- matplotlib\n",
    "- numpy\n",
    "- pandas\n",
    "- pillow\n",
    "- scipy\n",
    "- seaborn\n",
    "\n",
    "Anda diperbolehkan (jika dirasa perlu) untuk mengimpor modul tambahan untuk tugas ini. Namun, seharusnya modul yang tersedia sudah cukup untuk memenuhi kebutuhan Anda. Untuk kode yang Anda ambil dari sumber lain, **cantumkan URL menuju referensi tersebut jika diambil dari internet**!\n",
    "\n",
    "Perhatikan poin untuk tiap soal! **Semakin kecil poinnya, berarti kode yang diperlukan untuk menjawab soal tersebut seharusnya semakin sedikit!**"
   ]
  },
  {
   "cell_type": "markdown",
   "metadata": {
    "colab_type": "text",
    "id": "-fc4LpxKwMRr"
   },
   "source": [
    "**Nilai akhir: XX/40**"
   ]
  },
  {
   "cell_type": "markdown",
   "metadata": {
    "colab_type": "text",
    "id": "-Ac86srkwMRw"
   },
   "source": [
    "### Deskripsi Dataset\n",
    "\n",
    "Pada tugas kali ini, Anda akan mencoba menggunakan metode *machine learning* untuk melakukan dua jenis prediksi: **regresi** dan **klasifikasi**.\n",
    "\n",
    "**Untuk kasus regresi**, Anda diminta untuk memprediksi jumlah penjualan berdasarkan uang yang dihabiskan pada media iklan yang digunakan. Terdapat tiga media iklan, yaitu TV, Radio dan Newspaper. Dengan detail atribut sebagai berikut:\n",
    "\n",
    "- TV: biaya yang dihabiskan untuk iklan tayangan TV untuk setiap satu produk dalam sebuah pasar (dalam ribuan dollar)\n",
    "- Radio: biaya yang dihabiskan untuk iklan di radio (dalam ribuan dollar)\n",
    "- Newspaper: biaya yang dihabiskan untuk iklan di koran (dalam ribuan dollar)\n",
    "- Sales: penjualan dari setiap satuan produk pada suatu pasar (dalam ribuan widget)\n",
    "\n",
    "**Untuk kasus klasifikasi**, Anda akan menggunakan dataset Food-101 yang memiliki 101 kategori makanan dengan total 101.000 gambar makanan. Dataset untuk tugas ini diambil dari Food-101 (https://www.vision.ee.ethz.ch/datasets_extra/food-101/). Untuk versi yang lebih sederhana, Anda hanya akan membandingkan apakah gambar yang diberikan berupa *sushi* atau *pizza*. Anda akan melakukan klasifikasi menggunakan algoritma regresi logistik dan neural networks dalam tugas ini."
   ]
  },
  {
   "cell_type": "markdown",
   "metadata": {
    "colab_type": "text",
    "id": "P5PZd2S1wMR4"
   },
   "source": [
    "### Mengimpor Modul dan Dataset"
   ]
  },
  {
   "cell_type": "code",
   "execution_count": 0,
   "metadata": {
    "colab": {},
    "colab_type": "code",
    "id": "Po1LEGyewMR-"
   },
   "outputs": [],
   "source": [
    "from __future__ import print_function, division # Gunakan print(...) dan bukan print ...\n",
    "import matplotlib.pyplot as plt\n",
    "import numpy as np\n",
    "import pandas as pd\n",
    "import seaborn as sns\n",
    "import random\n",
    "import requests\n",
    "\n",
    "from sklearn.linear_model import LinearRegression, LogisticRegression\n",
    "from sklearn.metrics import accuracy_score, confusion_matrix, mean_squared_error, r2_score\n",
    "from sklearn.model_selection import train_test_split\n",
    "from sklearn.preprocessing import LabelEncoder\n",
    "\n",
    "%matplotlib inline\n",
    "\n",
    "RANDOM_STATE = 1337\n",
    "np.random.seed(RANDOM_STATE)"
   ]
  },
  {
   "cell_type": "markdown",
   "metadata": {
    "colab_type": "text",
    "id": "xcpyKv2wwMSK"
   },
   "source": [
    "## 1. Eksplorasi Awal Data - Advertising (6 poin)"
   ]
  },
  {
   "cell_type": "code",
   "execution_count": 0,
   "metadata": {
    "colab": {},
    "colab_type": "code",
    "id": "7n9ElIQcwMSQ"
   },
   "outputs": [],
   "source": [
    "df = pd.read_csv('https://github.com/aliakbars/uai-ai/raw/master/datasets/advertising.csv', index_col=0)"
   ]
  },
  {
   "cell_type": "markdown",
   "metadata": {
    "colab_type": "text",
    "id": "cFsxSlTowMSZ"
   },
   "source": [
    "### Soal 1.1.a (1 poin)\n",
    "\n",
    "Laporkan deskripsi dari Advertising dataset dengan menggunakan metode dari Pandas!"
   ]
  },
  {
   "cell_type": "code",
   "execution_count": 3,
   "metadata": {
    "colab": {
     "base_uri": "https://localhost:8080/",
     "height": 300
    },
    "colab_type": "code",
    "id": "lYZt30u6wMSb",
    "outputId": "2a1e916b-e7c7-4419-9343-c1959a791bf7"
   },
   "outputs": [
    {
     "data": {
      "text/html": [
       "<div>\n",
       "<style scoped>\n",
       "    .dataframe tbody tr th:only-of-type {\n",
       "        vertical-align: middle;\n",
       "    }\n",
       "\n",
       "    .dataframe tbody tr th {\n",
       "        vertical-align: top;\n",
       "    }\n",
       "\n",
       "    .dataframe thead th {\n",
       "        text-align: right;\n",
       "    }\n",
       "</style>\n",
       "<table border=\"1\" class=\"dataframe\">\n",
       "  <thead>\n",
       "    <tr style=\"text-align: right;\">\n",
       "      <th></th>\n",
       "      <th>TV</th>\n",
       "      <th>radio</th>\n",
       "      <th>newspaper</th>\n",
       "      <th>sales</th>\n",
       "    </tr>\n",
       "  </thead>\n",
       "  <tbody>\n",
       "    <tr>\n",
       "      <th>count</th>\n",
       "      <td>200.000000</td>\n",
       "      <td>200.000000</td>\n",
       "      <td>200.000000</td>\n",
       "      <td>200.000000</td>\n",
       "    </tr>\n",
       "    <tr>\n",
       "      <th>mean</th>\n",
       "      <td>147.042500</td>\n",
       "      <td>23.264000</td>\n",
       "      <td>30.554000</td>\n",
       "      <td>14.022500</td>\n",
       "    </tr>\n",
       "    <tr>\n",
       "      <th>std</th>\n",
       "      <td>85.854236</td>\n",
       "      <td>14.846809</td>\n",
       "      <td>21.778621</td>\n",
       "      <td>5.217457</td>\n",
       "    </tr>\n",
       "    <tr>\n",
       "      <th>min</th>\n",
       "      <td>0.700000</td>\n",
       "      <td>0.000000</td>\n",
       "      <td>0.300000</td>\n",
       "      <td>1.600000</td>\n",
       "    </tr>\n",
       "    <tr>\n",
       "      <th>25%</th>\n",
       "      <td>74.375000</td>\n",
       "      <td>9.975000</td>\n",
       "      <td>12.750000</td>\n",
       "      <td>10.375000</td>\n",
       "    </tr>\n",
       "    <tr>\n",
       "      <th>50%</th>\n",
       "      <td>149.750000</td>\n",
       "      <td>22.900000</td>\n",
       "      <td>25.750000</td>\n",
       "      <td>12.900000</td>\n",
       "    </tr>\n",
       "    <tr>\n",
       "      <th>75%</th>\n",
       "      <td>218.825000</td>\n",
       "      <td>36.525000</td>\n",
       "      <td>45.100000</td>\n",
       "      <td>17.400000</td>\n",
       "    </tr>\n",
       "    <tr>\n",
       "      <th>max</th>\n",
       "      <td>296.400000</td>\n",
       "      <td>49.600000</td>\n",
       "      <td>114.000000</td>\n",
       "      <td>27.000000</td>\n",
       "    </tr>\n",
       "  </tbody>\n",
       "</table>\n",
       "</div>"
      ],
      "text/plain": [
       "               TV       radio   newspaper       sales\n",
       "count  200.000000  200.000000  200.000000  200.000000\n",
       "mean   147.042500   23.264000   30.554000   14.022500\n",
       "std     85.854236   14.846809   21.778621    5.217457\n",
       "min      0.700000    0.000000    0.300000    1.600000\n",
       "25%     74.375000    9.975000   12.750000   10.375000\n",
       "50%    149.750000   22.900000   25.750000   12.900000\n",
       "75%    218.825000   36.525000   45.100000   17.400000\n",
       "max    296.400000   49.600000  114.000000   27.000000"
      ]
     },
     "execution_count": 3,
     "metadata": {
      "tags": []
     },
     "output_type": "execute_result"
    }
   ],
   "source": [
    "df.describe()"
   ]
  },
  {
   "cell_type": "markdown",
   "metadata": {
    "colab_type": "text",
    "id": "q1P8TnmiwMSk"
   },
   "source": [
    "### Soal 1.1.b (2 poin)\n",
    "\n",
    "Berapa nilai `sales` paling rendah dan nilai `sales` paling tinggi dari data yang Anda miliki? \n",
    "Berapa ribu dollar uang yang dihabiskan untuk membayar biaya iklan di `TV`, `radio`, dan `newspaper` untuk produk tersebut?\n"
   ]
  },
  {
   "cell_type": "code",
   "execution_count": 4,
   "metadata": {
    "colab": {
     "base_uri": "https://localhost:8080/",
     "height": 112
    },
    "colab_type": "code",
    "id": "QhBo8vvTwMSp",
    "outputId": "add69ec9-2a88-400d-b370-fe5ac0fb0352"
   },
   "outputs": [
    {
     "data": {
      "text/html": [
       "<div>\n",
       "<style scoped>\n",
       "    .dataframe tbody tr th:only-of-type {\n",
       "        vertical-align: middle;\n",
       "    }\n",
       "\n",
       "    .dataframe tbody tr th {\n",
       "        vertical-align: top;\n",
       "    }\n",
       "\n",
       "    .dataframe thead th {\n",
       "        text-align: right;\n",
       "    }\n",
       "</style>\n",
       "<table border=\"1\" class=\"dataframe\">\n",
       "  <thead>\n",
       "    <tr style=\"text-align: right;\">\n",
       "      <th></th>\n",
       "      <th>TV</th>\n",
       "      <th>radio</th>\n",
       "      <th>newspaper</th>\n",
       "      <th>sales</th>\n",
       "    </tr>\n",
       "  </thead>\n",
       "  <tbody>\n",
       "    <tr>\n",
       "      <th>131</th>\n",
       "      <td>0.7</td>\n",
       "      <td>39.6</td>\n",
       "      <td>8.7</td>\n",
       "      <td>1.6</td>\n",
       "    </tr>\n",
       "    <tr>\n",
       "      <th>176</th>\n",
       "      <td>276.9</td>\n",
       "      <td>48.9</td>\n",
       "      <td>41.8</td>\n",
       "      <td>27.0</td>\n",
       "    </tr>\n",
       "  </tbody>\n",
       "</table>\n",
       "</div>"
      ],
      "text/plain": [
       "        TV  radio  newspaper  sales\n",
       "131    0.7   39.6        8.7    1.6\n",
       "176  276.9   48.9       41.8   27.0"
      ]
     },
     "execution_count": 4,
     "metadata": {
      "tags": []
     },
     "output_type": "execute_result"
    }
   ],
   "source": [
    "min = df.sales.min()\n",
    "max = df.sales.max()\n",
    "\n",
    "df[(df['sales']==min) | (df['sales']==max)]"
   ]
  },
  {
   "cell_type": "markdown",
   "metadata": {
    "colab_type": "text",
    "id": "23Qh89xrwMSz"
   },
   "source": [
    "### Soal 1.2 (3 poin)\n",
    "\n",
    "Gambarkan scatter plot dari `sales` terhadap media iklan `TV`, `radio`, dan `newspaper`."
   ]
  },
  {
   "cell_type": "code",
   "execution_count": 5,
   "metadata": {
    "colab": {
     "base_uri": "https://localhost:8080/",
     "height": 297
    },
    "colab_type": "code",
    "id": "66AicM5qwMS3",
    "outputId": "19e3e0f0-f7b6-457e-f8fa-98ee5f39dfb2"
   },
   "outputs": [
    {
     "data": {
      "text/plain": [
       "<matplotlib.legend.Legend at 0x7f7ca63c46a0>"
      ]
     },
     "execution_count": 5,
     "metadata": {
      "tags": []
     },
     "output_type": "execute_result"
    },
    {
     "data": {
      "image/png": "[encoded data removed]",
      "text/plain": [
       "<matplotlib.figure.Figure at 0x7f7ca6454048>"
      ]
     },
     "metadata": {
      "tags": []
     },
     "output_type": "display_data"
    }
   ],
   "source": [
    "plt.scatter(df.TV,df.sales,c='#0cf913')\n",
    "plt.scatter (df.radio, df.sales,c='#edf90c')\n",
    "plt.scatter (df.newspaper, df.sales,c='#0c30f9')\n",
    "plt.xlabel ('TV / Radio / Newspaper')\n",
    "plt.ylabel ('Sales')\n",
    "plt.legend (['Sales - TV','Sales - Radio','Sales - Newspaper'])"
   ]
  },
  {
   "cell_type": "code",
   "execution_count": 6,
   "metadata": {
    "colab": {
     "base_uri": "https://localhost:8080/",
     "height": 203
    },
    "colab_type": "code",
    "id": "bCskEuUtE6YM",
    "outputId": "ff902131-ff58-4469-9870-3a5d36a051a7"
   },
   "outputs": [
    {
     "data": {
      "text/plain": [
       "<seaborn.axisgrid.PairGrid at 0x7f7ca68d9748>"
      ]
     },
     "execution_count": 6,
     "metadata": {
      "tags": []
     },
     "output_type": "execute_result"
    },
    {
     "data": {
      "image/png": "[encoded data removed]",
      "text/plain": [
       "<matplotlib.figure.Figure at 0x7f7ca68d97b8>"
      ]
     },
     "metadata": {
      "tags": []
     },
     "output_type": "display_data"
    }
   ],
   "source": [
    "sns.pairplot(df, x_vars=['TV','radio','newspaper'], y_vars='sales')"
   ]
  },
  {
   "cell_type": "markdown",
   "metadata": {
    "colab_type": "text",
    "id": "72EbwBIeE6Yg"
   },
   "source": [
    "#Referensi\n",
    "https://www.ritchieng.com/machine-learning-evaluate-linear-regression-model/"
   ]
  },
  {
   "cell_type": "markdown",
   "metadata": {
    "colab_type": "text",
    "id": "yhe9-b3QwMTB"
   },
   "source": [
    "## 2. Prediksi Penjualan Berdasarkan Biaya Media Iklan dengan Regresi Linear (19 poin)"
   ]
  },
  {
   "cell_type": "markdown",
   "metadata": {
    "colab_type": "text",
    "id": "6Zg59cKdwMTH"
   },
   "source": [
    "### Soal 2.1 (4 poin)\n",
    "\n",
    "Kita akan membuat simple linear regression dengan satu fitur. Dalam kasus ini, mari mencoba melihat hubungan antara `sales` dengan biaya untuk media iklan di `TV`.\n",
    "\n",
    "Ambil fitur dari kolom `TV` dan response dari kolom `sales`, kemudian buat sebuah model linear regression menggunakan pustaka scikit-learn dan latih model tersebut dengan data yang Anda miliki! Laporkan nilai bias dan koefisiennya. Lalu, jelaskan bagaimana intepretasi Anda terhadap koefisien dari model yang Anda miliki.\n",
    "\n",
    "*Petunjuk: Lihat cara penggunaan pustakanya di [sini](http://scikit-learn.org/stable/auto_examples/linear_model/plot_ols.html#sphx-glr-auto-examples-linear-model-plot-ols-py).*"
   ]
  },
  {
   "cell_type": "code",
   "execution_count": 7,
   "metadata": {
    "colab": {
     "base_uri": "https://localhost:8080/",
     "height": 54
    },
    "colab_type": "code",
    "id": "Z9DIFTBMwMTK",
    "outputId": "db906674-319c-49ed-aefc-09c9dc7cf342"
   },
   "outputs": [
    {
     "name": "stdout",
     "output_type": "stream",
     "text": [
      "Nilai bias =  7.032593549127695\n",
      "Nilai koefisien =  [0.04753664]\n"
     ]
    }
   ],
   "source": [
    "#Regresi linear\n",
    "reg = LinearRegression()\n",
    "reg.fit(df[['TV']],df.sales)\n",
    "\n",
    "print (\"Nilai bias = \", reg.intercept_)\n",
    "print (\"Nilai koefisien = \", reg.coef_)"
   ]
  },
  {
   "cell_type": "markdown",
   "metadata": {
    "colab_type": "text",
    "id": "pkb6Nd9qE6Y2"
   },
   "source": [
    "#Referensi\n",
    "http://scikit-learn.org/stable/auto_examples/linear_model/plot_ols.html#sphx-glr-auto-examples-linear-model-plot-ols-py"
   ]
  },
  {
   "cell_type": "markdown",
   "metadata": {
    "colab_type": "text",
    "id": "UYEL_YvrwMTU"
   },
   "source": [
    "Koefisien menunjukan hubungan antara variabel dependen dan variabel independen, maka koefisien 0.04 merupakan koefisien yang menandakan bahwa hubungan variabelnya sangat rendah. \n",
    "- 0,00 - 0,199 = sangat rendah \n",
    "- 0,20 - 0,399 = rendah \n",
    "- 0,40 - 0,599 = sedang \n",
    "- 0,60 - 0,799 = kuat \n",
    "- 0,80 - 1,000 = sangat kuat"
   ]
  },
  {
   "cell_type": "markdown",
   "metadata": {
    "colab_type": "text",
    "id": "869BPQD9wMTa"
   },
   "source": [
    "### Soal 2.2.a (3 poin)\n",
    "\n",
    "Mari kita lihat seberapa baik garis regresi yang dibuat dari model yang Anda miliki. Buatlah prediksi dari biaya `TV` yang paling minimum dan biaya `TV` yang paling maksimum! Gambarkan scatter plot dan garis regresi model Anda atas prediksi tersebut. Bagaimana garis tersebut mencocokkan data Anda?"
   ]
  },
  {
   "cell_type": "code",
   "execution_count": 8,
   "metadata": {
    "colab": {
     "base_uri": "https://localhost:8080/",
     "height": 279
    },
    "colab_type": "code",
    "id": "XfTMwfYQwMTc",
    "outputId": "eaf395d4-ec71-4b66-b2fa-65acb5f00b68"
   },
   "outputs": [
    {
     "data": {
      "image/png": "[encoded data removed]",
      "text/plain": [
       "<matplotlib.figure.Figure at 0x7f7ca3a3cc18>"
      ]
     },
     "metadata": {
      "tags": []
     },
     "output_type": "display_data"
    }
   ],
   "source": [
    "from sklearn.pipeline import make_pipeline\n",
    "\n",
    "tv = df.TV\n",
    "sales = df.sales\n",
    "\n",
    "x = tv.values\n",
    "y = sales.values\n",
    "\n",
    "x = x.reshape(tv.count(),1)\n",
    "y = y.reshape(sales.count(),1)\n",
    "\n",
    "poly_model = make_pipeline(LinearRegression())\n",
    "\n",
    "poly_model.fit(x,y)\n",
    "xfit = np.linspace(0,tv.max(),tv.count())\n",
    "yfit = poly_model.predict(xfit[:,np.newaxis])\n",
    "\n",
    "plt.scatter(x,y,color='#0cf913')\n",
    "plt.plot(xfit, yfit, color = 'black',linewidth = 3)\n",
    "plt.xlabel('TV')\n",
    "plt.ylabel('Sales')\n",
    "plt.show()"
   ]
  },
  {
   "cell_type": "markdown",
   "metadata": {
    "colab_type": "text",
    "id": "CfcRfWukE6ZV"
   },
   "source": [
    "#Referensi\n",
    "https://pandas.pydata.org/pandas-docs/stable/generated/pandas.DataFrame.html"
   ]
  },
  {
   "cell_type": "markdown",
   "metadata": {
    "colab_type": "text",
    "id": "iBpHK31RwMTp"
   },
   "source": [
    "### Soal 2.2.b (3 poin)\n",
    "\n",
    "Coba lakukan kembali regresi pada data tersebut, tetapi kali ini gunakan fungsi basis polinomial orde 3. Gambarkan kembali scatter plot dan fungsi regresinya."
   ]
  },
  {
   "cell_type": "code",
   "execution_count": 9,
   "metadata": {
    "colab": {
     "base_uri": "https://localhost:8080/",
     "height": 265
    },
    "colab_type": "code",
    "id": "IosU5tlvwMTr",
    "outputId": "33603da7-3503-4db3-fa26-a3101e6e870d"
   },
   "outputs": [
    {
     "data": {
      "image/png": "[encoded data removed]",
      "text/plain": [
       "<matplotlib.figure.Figure at 0x7f7ca3a3cdd8>"
      ]
     },
     "metadata": {
      "tags": []
     },
     "output_type": "display_data"
    }
   ],
   "source": [
    "from sklearn.pipeline import make_pipeline\n",
    "from sklearn.preprocessing import PolynomialFeatures\n",
    "\n",
    "x = tv.values\n",
    "y = sales.values\n",
    "x = x.reshape(tv.count(),1)\n",
    "y = y.reshape(sales.count(),1)\n",
    "\n",
    "poly_model = make_pipeline(PolynomialFeatures(3),\n",
    "                           LinearRegression())\n",
    "\n",
    "poly_model.fit(x,y)\n",
    "xfit = np.linspace(0,300,tv.count())\n",
    "yfit = poly_model.predict(xfit[:, np.newaxis])\n",
    "\n",
    "plt.scatter(x,y,color='#0cf913')\n",
    "plt.plot(xfit,yfit, color='black', linewidth='3')\n",
    "plt.show()"
   ]
  },
  {
   "cell_type": "markdown",
   "metadata": {
    "colab_type": "text",
    "id": "20muu1BpE6Zh"
   },
   "source": [
    "#Referensi\n",
    "Lab 1 praktikum AI"
   ]
  },
  {
   "cell_type": "markdown",
   "metadata": {
    "colab_type": "text",
    "id": "V2BQdZ5KwMT0"
   },
   "source": [
    "### Soal 2.2.c (3 poin)\n",
    "\n",
    "Salah satu cara untuk memastikan bahwa model yang Anda hasilkan sudah cukup baik pada model regresi adalah dengan menghitung nilai *mean squared error* (MSE). Coba hitung nilai MSE untuk regresi dengan dan tanpa fungsi basis polinomial seperti yang Anda kerjakan pada bagian a dan b. Apa yang dapat Anda amati? Apakah nilainya sesuai dengan ekspektasi Anda?"
   ]
  },
  {
   "cell_type": "code",
   "execution_count": 10,
   "metadata": {
    "colab": {
     "base_uri": "https://localhost:8080/",
     "height": 54
    },
    "colab_type": "code",
    "id": "9M_UX5p2wMT2",
    "outputId": "03336e7b-6724-4544-fda8-e7c151d064ea"
   },
   "outputs": [
    {
     "name": "stdout",
     "output_type": "stream",
     "text": [
      "Nilai Mean Squared Error tanpa basis polinomial =  10.512652915656757\n",
      "Nilai Mean Squared Error dengan basis polinomial=  45.88106189103825\n"
     ]
    }
   ],
   "source": [
    "# The mean squared error\n",
    "print(\"Nilai Mean Squared Error tanpa basis polinomial = \" ,mean_squared_error(y, reg.predict(x)))\n",
    "\n",
    "# The mean squared error\n",
    "print(\"Nilai Mean Squared Error dengan basis polinomial= \" ,mean_squared_error(y, yfit))"
   ]
  },
  {
   "cell_type": "markdown",
   "metadata": {
    "colab_type": "text",
    "id": "Gv8qMn4HwMUB"
   },
   "source": [
    "Dari hasil diatas, dapat diketahui nilai MSE dengan basis polinomial lebih kecil dari tanpa basis polinomial, karena fungsi polinomial lebih baik untuk prediksinya daripada hanya menggunakan linear regression, terutama pada kasus non-linear"
   ]
  },
  {
   "cell_type": "markdown",
   "metadata": {
    "colab_type": "text",
    "id": "XgA0aVhrwMUE"
   },
   "source": [
    "### Soal 2.3.a (4 poin)\n",
    "\n",
    "Sekarang kita akan melakukan Multiple Linear Regression. Buatlah sebuah model dengan menggunakan Linear Regression dari scikit-learn untuk fitur `TV`, `radio`, dan `newspaper`. Variabel dependen yang digunakan adalah `sales`. Keluarkan pula nilai bias dan nilai koefisien ketiga fitur tersebut. Sebelum itu, bagi dataset menjadi data latih dan data uji dengan proporsi data uji sebanyak 20%."
   ]
  },
  {
   "cell_type": "code",
   "execution_count": 11,
   "metadata": {
    "colab": {
     "base_uri": "https://localhost:8080/",
     "height": 54
    },
    "colab_type": "code",
    "id": "sUV71Z4JwMUG",
    "outputId": "e0003b64-0269-444d-d66b-d189046d959e"
   },
   "outputs": [
    {
     "name": "stdout",
     "output_type": "stream",
     "text": [
      "Nilai bias =  3.1115315362412534\n",
      "Nilai koefisien =  [ 0.04637974  0.18080161 -0.00164953]\n"
     ]
    }
   ],
   "source": [
    "a = df[['TV','radio','newspaper']]\n",
    "\n",
    "x_train, x_test, y_train, y_test = train_test_split (a,sales, train_size = 0.8, test_size = 0.2, random_state=RANDOM_STATE)\n",
    "\n",
    "reg = LinearRegression()\n",
    "reg.fit(x_train,y_train)\n",
    "\n",
    "print (\"Nilai bias = \", reg.intercept_)\n",
    "print (\"Nilai koefisien = \", reg.coef_)"
   ]
  },
  {
   "cell_type": "markdown",
   "metadata": {
    "colab_type": "text",
    "id": "x5FIoqX9E6ao"
   },
   "source": [
    "#Referensi https://datatofish.com/multiple-linear-regression-python/"
   ]
  },
  {
   "cell_type": "markdown",
   "metadata": {
    "colab_type": "text",
    "id": "ge40EiagwMUK"
   },
   "source": [
    "### Soal 2.3.b (2 poin)\n",
    "\n",
    "Lakukan evaluasi model *multiple linear regression* yang Anda miliki dari data uji dengan menggunakan *mean squared error*."
   ]
  },
  {
   "cell_type": "code",
   "execution_count": 12,
   "metadata": {
    "colab": {
     "base_uri": "https://localhost:8080/",
     "height": 35
    },
    "colab_type": "code",
    "id": "pLUsAzmSwMUM",
    "outputId": "b764b7fd-327c-40e0-bac1-5f40d16b6755"
   },
   "outputs": [
    {
     "name": "stdout",
     "output_type": "stream",
     "text": [
      "Mean squared error:  3.2807179562015216\n"
     ]
    }
   ],
   "source": [
    "# The mean squared error\n",
    "print(\"Mean squared error: \", mean_squared_error(y_test, reg.predict(x_test)))"
   ]
  },
  {
   "cell_type": "markdown",
   "metadata": {
    "colab_type": "text",
    "id": "5mtcbHYtwMUY"
   },
   "source": [
    "## 3. Eksplorasi Awal Data Food-101 (3 poin)"
   ]
  },
  {
   "cell_type": "markdown",
   "metadata": {
    "colab_type": "text",
    "id": "J32-1ATjwMUb"
   },
   "source": [
    "Pertama, kita akan memuat data menggunakan kode di bawah ini. `X` merupakan gambar yang telah diterjemahkan dalam bentuk *tensor* atau array multidimensi. Dimensi pertama menunjukkan jumlah datanya, dua dimensi berikutnya menunjukkan panjang dan lebar dari gambarnya, dan dimensi keempat merupakan *channels* (RGB). Di sisi lain, `y` adalah kelas dari masing-masing gambar yang diberikan dalam `X` sehingga `X.shape[0] == y.shape[0]`."
   ]
  },
  {
   "cell_type": "code",
   "execution_count": 0,
   "metadata": {
    "colab": {},
    "colab_type": "code",
    "id": "KdRVXU0rwMUf"
   },
   "outputs": [],
   "source": [
    "def load_file(url):\n",
    "    filename = url.split('/')[-1]\n",
    "    with open(filename, 'wb') as f:\n",
    "        resp = requests.get(url)\n",
    "        f.write(resp.content)\n",
    "    return np.load(filename)"
   ]
  },
  {
   "cell_type": "code",
   "execution_count": 14,
   "metadata": {
    "colab": {
     "base_uri": "https://localhost:8080/",
     "height": 35
    },
    "colab_type": "code",
    "id": "7D52y5WOwMUk",
    "outputId": "6b6716db-64e8-4eb3-f116-8e27b594ce3c"
   },
   "outputs": [
    {
     "data": {
      "text/plain": [
       "(2001, 28, 28, 3)"
      ]
     },
     "execution_count": 14,
     "metadata": {
      "tags": []
     },
     "output_type": "execute_result"
    }
   ],
   "source": [
    "X = load_file('https://github.com/aliakbars/uai-ai/raw/master/datasets/food.npy')\n",
    "y = load_file('https://github.com/aliakbars/uai-ai/raw/master/datasets/food_labels.npy')\n",
    "\n",
    "X.shape"
   ]
  },
  {
   "cell_type": "markdown",
   "metadata": {
    "colab_type": "text",
    "id": "1qjn1XRjwMUy"
   },
   "source": [
    "### Soal 3.1 (1 poin)\n",
    "\n",
    "Berapa banyak gambar sushi dan pizza masing-masing dalam dataset ini?"
   ]
  },
  {
   "cell_type": "code",
   "execution_count": 15,
   "metadata": {
    "colab": {
     "base_uri": "https://localhost:8080/",
     "height": 54
    },
    "colab_type": "code",
    "id": "HwjkhMjMwMU1",
    "outputId": "490b339a-da31-4f49-d0bb-9ef1fe954276"
   },
   "outputs": [
    {
     "name": "stdout",
     "output_type": "stream",
     "text": [
      "Jumlah gambar pizza =  1001\n",
      "Jumlah gambar sushi =  1000\n"
     ]
    }
   ],
   "source": [
    "pizza = np.count_nonzero(y == 'pizza')\n",
    "sushi = np.count_nonzero(y == 'sushi')\n",
    "\n",
    "print(\"Jumlah gambar pizza = \",\"%d\" %pizza)\n",
    "print(\"Jumlah gambar sushi = \",\"%d\" %sushi)"
   ]
  },
  {
   "cell_type": "markdown",
   "metadata": {
    "colab_type": "text",
    "id": "dfKVjN_SE6b0"
   },
   "source": [
    "#Referensi\n",
    "https://docs.scipy.org/doc/numpy-1.13.0/reference/routines.sort.html"
   ]
  },
  {
   "cell_type": "markdown",
   "metadata": {
    "colab_type": "text",
    "id": "eOYDrfeBwMVC"
   },
   "source": [
    "### Soal 3.2 (2 poin)\n",
    "\n",
    "Gambarkan satu contoh pizza (indeks 0-1000) dan satu contoh sushi (indeks 1001-2000) dari dataset yang digunakan.\n",
    "\n",
    "*Petunjuk: Anda dapat menggunakan `plt.imshow()`*"
   ]
  },
  {
   "cell_type": "code",
   "execution_count": 16,
   "metadata": {
    "colab": {
     "base_uri": "https://localhost:8080/",
     "height": 298
    },
    "colab_type": "code",
    "id": "BLYtfKRUwMVE",
    "outputId": "0fd0b00b-6206-4ae8-81be-f78d571f7863"
   },
   "outputs": [
    {
     "data": {
      "text/plain": [
       "Text(0.5,1,'Gambar Sushi')"
      ]
     },
     "execution_count": 16,
     "metadata": {
      "tags": []
     },
     "output_type": "execute_result"
    },
    {
     "data": {
      "image/png": "[encoded data removed]",
      "text/plain": [
       "<matplotlib.figure.Figure at 0x7f7ca3986320>"
      ]
     },
     "metadata": {
      "tags": []
     },
     "output_type": "display_data"
    }
   ],
   "source": [
    "f, axarr = plt.subplots(2,2)\n",
    "axarr[0, 0].imshow(X[0])\n",
    "axarr[0, 0].set_title('Gambar Pizza')\n",
    "axarr[0, 1].imshow(X[1001])\n",
    "axarr[0, 1].set_title('Gambar Sushi')\n",
    "axarr[1, 0].imshow(X[1000])\n",
    "axarr[1, 0].set_title('Gambar Pizza')\n",
    "axarr[1, 1].imshow(X[2000])\n",
    "axarr[1, 1].set_title('Gambar Sushi')"
   ]
  },
  {
   "cell_type": "markdown",
   "metadata": {
    "colab_type": "text",
    "id": "XA2O7LllE6b9"
   },
   "source": [
    "#Referensi\n",
    "https://matplotlib.org/api/_as_gen/matplotlib.pyplot.subplots.html"
   ]
  },
  {
   "cell_type": "markdown",
   "metadata": {
    "colab_type": "text",
    "id": "Q52qOYPwwMVP"
   },
   "source": [
    "## 4. Klasifikasi Gambar Pizza dan Sushi Menggunakan Logistic Regression (12 poin)"
   ]
  },
  {
   "cell_type": "markdown",
   "metadata": {
    "colab_type": "text",
    "id": "ivv5lgltwMVX"
   },
   "source": [
    "### Soal 4.1 (1 poin)\n",
    "\n",
    "Bagi dataset Anda menjadi 70-30 untuk training-test sets."
   ]
  },
  {
   "cell_type": "code",
   "execution_count": 17,
   "metadata": {
    "colab": {
     "base_uri": "https://localhost:8080/",
     "height": 35
    },
    "colab_type": "code",
    "id": "HdvYCyn_wMVZ",
    "outputId": "1ab57d02-9b08-4868-d96c-138b0b8d93ef"
   },
   "outputs": [
    {
     "data": {
      "text/plain": [
       "(601, 28, 28, 3)"
      ]
     },
     "execution_count": 17,
     "metadata": {
      "tags": []
     },
     "output_type": "execute_result"
    }
   ],
   "source": [
    "x_train, x_test, y_train, y_test = train_test_split (X,y, train_size = 0.7, test_size = 0.3, random_state = RANDOM_STATE)\n",
    "x_train.shape\n",
    "x_test.shape"
   ]
  },
  {
   "cell_type": "markdown",
   "metadata": {
    "colab_type": "text",
    "id": "3wkbg6xvwMVi"
   },
   "source": [
    "### Soal 4.2.a (4 poin)\n",
    "\n",
    "Buat gambar yang berbentuk matriks pixel yang ada menjadi flat, lalu lakukan regresi logistik ke data yang telah Anda bagi tadi."
   ]
  },
  {
   "cell_type": "code",
   "execution_count": 18,
   "metadata": {
    "colab": {
     "base_uri": "https://localhost:8080/",
     "height": 90
    },
    "colab_type": "code",
    "id": "e2eTZqEIwMVn",
    "outputId": "a597a4a8-2689-48da-980e-6224bb3e7e8a"
   },
   "outputs": [
    {
     "data": {
      "text/plain": [
       "LogisticRegression(C=1.0, class_weight=None, dual=False, fit_intercept=True,\n",
       "          intercept_scaling=1, max_iter=100, multi_class='ovr', n_jobs=1,\n",
       "          penalty='l2', random_state=None, solver='liblinear', tol=0.0001,\n",
       "          verbose=0, warm_start=False)"
      ]
     },
     "execution_count": 18,
     "metadata": {
      "tags": []
     },
     "output_type": "execute_result"
    }
   ],
   "source": [
    "x_train = x_train.flatten()\n",
    "x_test = x_test.flatten()\n",
    "y_train = y_train.flatten()\n",
    "y_test = y_test.flatten()\n",
    "\n",
    "logreg = LogisticRegression()\n",
    "logreg.fit(x_train.reshape(1400,28*28*3),y_train)"
   ]
  },
  {
   "cell_type": "markdown",
   "metadata": {
    "colab_type": "text",
    "id": "ztyEmdiDE6cP"
   },
   "source": [
    "#Referensi https://docs.scipy.org/doc/numpy-1.15.0/reference/generated/numpy.ndarray.flatten.html"
   ]
  },
  {
   "cell_type": "markdown",
   "metadata": {
    "colab_type": "text",
    "id": "d8DYhH66wMV4"
   },
   "source": [
    "### Soal 4.2.b (2 poin)\n",
    "\n",
    "Apa pendapat Anda tentang hasil klasifikasi tersebut? Apakah hasilnya sudah cukup baik?"
   ]
  },
  {
   "cell_type": "code",
   "execution_count": 19,
   "metadata": {
    "colab": {
     "base_uri": "https://localhost:8080/",
     "height": 35
    },
    "colab_type": "code",
    "id": "ntmvGwRLHa_T",
    "outputId": "986b6933-bbaa-42b0-ae89-c00a71a0d489"
   },
   "outputs": [
    {
     "data": {
      "text/plain": [
       "0.562396006655574"
      ]
     },
     "execution_count": 19,
     "metadata": {
      "tags": []
     },
     "output_type": "execute_result"
    }
   ],
   "source": [
    "x_test = x_test.reshape(601,28*28*3)\n",
    "logreg.score(x_test,y_test)"
   ]
  },
  {
   "cell_type": "markdown",
   "metadata": {
    "colab_type": "text",
    "id": "Xj0w-hf1wMV5"
   },
   "source": [
    "Menurut saya klasifikasi menggunakan regresi logistik mendapatkan hasil yang lebih baik dibandingkan regresi linear. Karena, regresi logistik dapat menggunakan data multiple maupun polynomial, dan semakin tinggi nilai akurasinya maka semakin baik pula modelnya.\n",
    "\n",
    "Dalam regresi linier, hasilnya (variabel dependen) adalah berkelanjutan(...,-2.-1,0,1,2,...). Sedangkan, dalam regresi logistik, hasilnya (variabel dependen) hanya memiliki jumlah nilai yang terbatas (0 sampai 1)"
   ]
  },
  {
   "cell_type": "markdown",
   "metadata": {
    "colab_type": "text",
    "id": "N7WXTtu-wMV6"
   },
   "source": [
    "### Soal 4.3 (5 poin)\n",
    "\n",
    "Apa kesimpulan Anda dari eksperimen sejauh ini? Apa yang dapat dilakukan untuk memperbaiki kinerja model regresi logistik?"
   ]
  },
  {
   "cell_type": "markdown",
   "metadata": {
    "colab_type": "text",
    "id": "ywSxZYN2wMV7"
   },
   "source": [
    "Dengan menggunakan regresi logistik , dapat kita ketahui bahwa regresi logistik dapat memprediksi data secara kategorikal (Pizza, sushi). Dan untuk memperbaiki kinerja model regresi logistik menggunakan fungsi galat, maximum likelihood dan dengan belajar untuk menuruni tingkat errornya"
   ]
  },
  {
   "cell_type": "markdown",
   "metadata": {
    "colab_type": "text",
    "id": "5VEybOD2wMV9"
   },
   "source": [
    "## 5. Bonus: Klasifikasi Gambar Pizza dan Sushi Menggunakan Deep Learning (5 poin)"
   ]
  },
  {
   "cell_type": "markdown",
   "metadata": {
    "colab_type": "text",
    "id": "PiAq1l4NwMV-"
   },
   "source": [
    "Coba klasifikasikan data Food-101 untuk kedua jenis makanan diatas dengan menggunakan pustaka dari Keras untuk *deep learning* atau *neural networks*. Jangan lupa untuk melaporkan akurasi dan *confusion matrix*-nya. Adaptasi kode di atas dan lihat pula contoh kode di [sini](https://github.com/fchollet/keras/blob/master/examples/mnist_cnn.py). Coba buat Convolutional Neural Network dan jalankan kodenya. Kode *deep learning* Anda hanya dinilai jika berhasil berjalan.\n",
    "\n",
    "*Petunjuk: Anda mungkin perlu mengubah dimensi dari data latih dan data uji Anda menjadi $n \\times d \\times d \\times 1$ dengan 1 dimensi terakhir adalah channel hitam-putih. Nilainya bisa menjadi 3 jika kita menggunakan channel warna RGB.*\n",
    "\n",
    "*Anda mungkin perlu menggunakan representasi one-of-K untuk label yang digunakan. Anda dapat menggunakan `keras.utils.to_categorical` untuk melakukan hal ini. Silakan mencontoh kode untuk deep neural networks sederhana di [sini](https://github.com/fchollet/keras/blob/master/examples/mnist_mlp.py) atau dengan menggunakan convolutional neural networks di [sini](https://github.com/fchollet/keras/blob/master/examples/mnist_cnn.py).*"
   ]
  },
  {
   "cell_type": "code",
   "execution_count": 35,
   "metadata": {
    "colab": {
     "base_uri": "https://localhost:8080/",
     "height": 1082
    },
    "colab_type": "code",
    "id": "EmIygI1NwMV_",
    "outputId": "3a535526-d56f-4140-e629-7e232281d20f"
   },
   "outputs": [
    {
     "name": "stdout",
     "output_type": "stream",
     "text": [
      "1400 train samples\n",
      "601 test samples\n",
      "_________________________________________________________________\n",
      "Layer (type)                 Output Shape              Param #   \n",
      "=================================================================\n",
      "dense_31 (Dense)             (None, 32)                75296     \n",
      "_________________________________________________________________\n",
      "dropout_19 (Dropout)         (None, 32)                0         \n",
      "_________________________________________________________________\n",
      "dense_32 (Dense)             (None, 10)                330       \n",
      "=================================================================\n",
      "Total params: 75,626\n",
      "Trainable params: 75,626\n",
      "Non-trainable params: 0\n",
      "_________________________________________________________________\n",
      "Train on 1400 samples, validate on 601 samples\n",
      "Epoch 1/20\n",
      "1400/1400 [==============================] - 1s 819us/step - loss: 1.1828 - acc: 0.4386 - val_loss: 0.7041 - val_acc: 0.5607\n",
      "Epoch 2/20\n",
      "1400/1400 [==============================] - 0s 121us/step - loss: 0.9216 - acc: 0.5143 - val_loss: 0.6707 - val_acc: 0.5557\n",
      "Epoch 3/20\n",
      "1400/1400 [==============================] - 0s 116us/step - loss: 0.8325 - acc: 0.5300 - val_loss: 0.6760 - val_acc: 0.5524\n",
      "Epoch 4/20\n",
      "1400/1400 [==============================] - 0s 115us/step - loss: 0.7779 - acc: 0.5521 - val_loss: 0.6613 - val_acc: 0.6156\n",
      "Epoch 5/20\n",
      "1400/1400 [==============================] - 0s 110us/step - loss: 0.7343 - acc: 0.5643 - val_loss: 0.6599 - val_acc: 0.5607\n",
      "Epoch 6/20\n",
      "1400/1400 [==============================] - 0s 115us/step - loss: 0.7126 - acc: 0.5757 - val_loss: 0.6779 - val_acc: 0.5424\n",
      "Epoch 7/20\n",
      "1400/1400 [==============================] - 0s 113us/step - loss: 0.6953 - acc: 0.5950 - val_loss: 0.6901 - val_acc: 0.5341\n",
      "Epoch 8/20\n",
      "1400/1400 [==============================] - 0s 111us/step - loss: 0.6935 - acc: 0.6021 - val_loss: 0.6463 - val_acc: 0.6273\n",
      "Epoch 9/20\n",
      "1400/1400 [==============================] - 0s 115us/step - loss: 0.6991 - acc: 0.5843 - val_loss: 0.6776 - val_acc: 0.5824\n",
      "Epoch 10/20\n",
      "1400/1400 [==============================] - 0s 116us/step - loss: 0.6847 - acc: 0.5929 - val_loss: 0.6466 - val_acc: 0.6456\n",
      "Epoch 11/20\n",
      "1400/1400 [==============================] - 0s 115us/step - loss: 0.6723 - acc: 0.6179 - val_loss: 0.6405 - val_acc: 0.6389\n",
      "Epoch 12/20\n",
      "1400/1400 [==============================] - 0s 114us/step - loss: 0.6616 - acc: 0.6150 - val_loss: 0.6436 - val_acc: 0.6356\n",
      "Epoch 13/20\n",
      "1400/1400 [==============================] - 0s 115us/step - loss: 0.6637 - acc: 0.6300 - val_loss: 0.6416 - val_acc: 0.6356\n",
      "Epoch 14/20\n",
      "1400/1400 [==============================] - 0s 116us/step - loss: 0.6633 - acc: 0.6271 - val_loss: 0.6307 - val_acc: 0.6456\n",
      "Epoch 15/20\n",
      "1400/1400 [==============================] - 0s 116us/step - loss: 0.6598 - acc: 0.6193 - val_loss: 0.6329 - val_acc: 0.6339\n",
      "Epoch 16/20\n",
      "1400/1400 [==============================] - 0s 114us/step - loss: 0.6689 - acc: 0.6264 - val_loss: 0.6315 - val_acc: 0.6290\n",
      "Epoch 17/20\n",
      "1400/1400 [==============================] - 0s 115us/step - loss: 0.6504 - acc: 0.6429 - val_loss: 0.6302 - val_acc: 0.6306\n",
      "Epoch 18/20\n",
      "1400/1400 [==============================] - 0s 110us/step - loss: 0.6482 - acc: 0.6271 - val_loss: 0.6447 - val_acc: 0.6323\n",
      "Epoch 19/20\n",
      "1400/1400 [==============================] - 0s 116us/step - loss: 0.6479 - acc: 0.6321 - val_loss: 0.6299 - val_acc: 0.6473\n",
      "Epoch 20/20\n",
      "1400/1400 [==============================] - 0s 115us/step - loss: 0.6411 - acc: 0.6271 - val_loss: 0.6269 - val_acc: 0.6406\n",
      "Test loss: 0.6268596703716601\n",
      "Test accuracy: 0.6405990010688388\n"
     ]
    }
   ],
   "source": [
    "from __future__ import print_function\n",
    "\n",
    "import keras\n",
    "from keras.datasets import mnist\n",
    "from keras.models import Sequential\n",
    "from keras.layers import Dense, Dropout\n",
    "from keras.optimizers import RMSprop\n",
    "\n",
    "batch_size = 32\n",
    "num_classes = 10\n",
    "epochs = 20\n",
    "\n",
    "# the data, split between train and test sets\n",
    "X = load_file('https://github.com/aliakbars/uai-ai/raw/master/datasets/food.npy')\n",
    "y = load_file('https://github.com/aliakbars/uai-ai/raw/master/datasets/food_labels.npy')\n",
    "\n",
    "for i in range(2001):\n",
    "  if y[i] == 'pizza':\n",
    "    y[i] = 1;\n",
    "  else:\n",
    "    y[i] = 0;\n",
    "    \n",
    "x_train, x_test, y_train, y_test = train_test_split (X,y, train_size = 0.7, test_size = 0.3, random_state = RANDOM_STATE)\n",
    "\n",
    "x_train = x_train.reshape(1400, 2352)\n",
    "x_test = x_test.reshape(601, 2352)\n",
    "x_train = x_train.astype('float32')\n",
    "x_test = x_test.astype('float32')\n",
    "x_train /= 255\n",
    "x_test /= 255\n",
    "print(x_train.shape[0], 'train samples')\n",
    "print(x_test.shape[0], 'test samples')\n",
    "\n",
    "# convert class vectors to binary class matrices\n",
    "y_train = keras.utils.to_categorical(y_train, num_classes)\n",
    "y_test = keras.utils.to_categorical(y_test, num_classes)\n",
    "\n",
    "model = Sequential()\n",
    "model.add(Dense(32, activation='relu', input_shape=(2352,)))\n",
    "model.add(Dropout(0.5))\n",
    "#model.add(Dense(256, activation='relu'))\n",
    "#model.add(Dropout(0.2))\n",
    "model.add(Dense(num_classes, activation='softmax'))\n",
    "\n",
    "model.summary()\n",
    "\n",
    "model.compile(loss='categorical_crossentropy',\n",
    "              optimizer=RMSprop(),\n",
    "              metrics=['accuracy'])\n",
    "\n",
    "history = model.fit(x_train, y_train,\n",
    "                    batch_size=batch_size,\n",
    "                    epochs=epochs,\n",
    "                    verbose=1,\n",
    "                    validation_data=(x_test, y_test))\n",
    "score = model.evaluate(x_test, y_test, verbose=0)\n",
    "print('Test loss:', score[0])\n",
    "print('Test accuracy:', score[1])"
   ]
  },
  {
   "cell_type": "code",
   "execution_count": 38,
   "metadata": {
    "colab": {
     "base_uri": "https://localhost:8080/",
     "height": 294
    },
    "colab_type": "code",
    "id": "By-k_8feRCdj",
    "outputId": "3892dab3-a100-4d13-a394-13aed4848983"
   },
   "outputs": [
    {
     "data": {
      "image/png": "[encoded data removed]",
      "text/plain": [
       "<matplotlib.figure.Figure at 0x7f7c8e4764e0>"
      ]
     },
     "metadata": {
      "tags": []
     },
     "output_type": "display_data"
    }
   ],
   "source": [
    "y_pred = model.predict_classes(x_test)\n",
    "cm = confusion_matrix(np.argmax(y_test,axis=1),y_pred)\n",
    "\n",
    "ax = plt.axes()\n",
    "sns.heatmap(cm, annot=True, fmt=\"d\", cmap=\"cool\") #-___-\n",
    "ax.set_title('Confusion Matrix Convolutional Neural Network')\n",
    "#ax.set_yticklabels(le.inverse_transform([1,0]))\n",
    "#ax.set_xticklabels(le.inverse_transform([0,1]))\n",
    "ax.set_ylabel('True Label')\n",
    "ax.set_xlabel('Predicted Label')\n",
    "plt.show()"
   ]
  },
  {
   "cell_type": "code",
   "execution_count": 0,
   "metadata": {
    "colab": {},
    "colab_type": "code",
    "id": "5fCx9KxVT74S"
   },
   "outputs": [],
   "source": []
  }
 ],
 "metadata": {
  "colab": {
   "name": "perbaikan_tugas1_0102516002.ipynb",
   "provenance": [],
   "version": "0.3.2"
  },
  "kernelspec": {
   "display_name": "Python 3",
   "language": "python",
   "name": "python3"
  },
  "language_info": {
   "codemirror_mode": {
    "name": "ipython",
    "version": 3
   },
   "file_extension": ".py",
   "mimetype": "text/x-python",
   "name": "python",
   "nbconvert_exporter": "python",
   "pygments_lexer": "ipython3",
   "version": "3.6.8"
  }
 },
 "nbformat": 4,
 "nbformat_minor": 1
}
