{
 "cells": [
  {
   "cell_type": "markdown",
   "metadata": {
    "colab_type": "text",
    "id": "WQ8uiKAH-mU0"
   },
   "source": [
    "# Kecerdasan Buatan\n",
    "\n",
    "## Tugas 2: k-Nearest Neighbours & k-Means\n",
    "\n",
    "### Mekanisme\n",
    "\n",
    "Anda hanya diwajibkan untuk mengumpulkan file ini saja ke uploader yang disediakan di http://elearning2.uai.ac.id/. Ganti nama file ini saat pengumpulan menjadi tugas2_NIM.ipynb.\n",
    "\n",
    "**Keterlambatan**: Pengumpulan tugas yang melebihi tenggat yang telah ditentukan tidak akan diterima. Keterlambatan akan berakibat pada nilai nol untuk tugas ini.\n",
    "\n",
    "**Kolaborasi**: Anda diperbolehkan untuk berdiskusi dengan teman Anda, tetapi dilarang keras menyalin kode maupun tulisan dari teman Anda.\n",
    "\n",
    "### Petunjuk\n",
    "\n",
    "_Packages_ yang Anda akan gunakan dalam mengerjakan tugas ini antara lain:\n",
    "\n",
    "- matplotlib\n",
    "- numpy\n",
    "- pandas\n",
    "- pillow\n",
    "- scipy\n",
    "- seaborn\n",
    "\n",
    "Anda diperbolehkan (jika dirasa perlu) untuk mengimpor modul tambahan untuk tugas ini. Namun, seharusnya modul yang tersedia sudah cukup untuk memenuhi kebutuhan Anda. Untuk kode yang Anda ambil dari sumber lain, **cantumkan URL menuju referensi tersebut jika diambil dari internet**!\n",
    "\n",
    "Perhatikan poin untuk tiap soal! **Semakin kecil poinnya, berarti kode yang diperlukan untuk menjawab soal tersebut seharusnya semakin sedikit!**"
   ]
  },
  {
   "cell_type": "markdown",
   "metadata": {
    "colab_type": "text",
    "id": "4aRR1HeU-mU7"
   },
   "source": [
    "**NIM:**\n",
    "\n",
    "**Nilai akhir: XX/50**"
   ]
  },
  {
   "cell_type": "markdown",
   "metadata": {
    "colab_type": "text",
    "id": "JdO9qwPt-mU-"
   },
   "source": [
    "### Deskripsi Dataset\n",
    "\n",
    "Pada tugas kali ini, Anda akan melihat penggunaan algoritma yang berbasis pada jarak antarobjek. Anda diberikan dataset berupa gambar angka-angka yang ditulis tangan. Dataset ini adalah versi yang lebih sederhana dari MNIST yang sering digunakan. Ukuran tiap gambar angka dalam dataset ini dalah 8x8 pixels. Deskripsi lengkapnya dapat Anda lihat di [sini](http://archive.ics.uci.edu/ml/datasets/Optical+Recognition+of+Handwritten+Digits). Tugas Anda kali ini adalah menerapkan algoritma k-NN dan k-Means untuk melakukan prediksi dan pengelompokan 10 angka tersebut dan mengevaluasi hasilnya."
   ]
  },
  {
   "cell_type": "markdown",
   "metadata": {
    "colab_type": "text",
    "id": "H5xbFBtO-mVH"
   },
   "source": [
    "### Mengimpor Modul dan Dataset"
   ]
  },
  {
   "cell_type": "code",
   "execution_count": 1,
   "metadata": {
    "colab": {},
    "colab_type": "code",
    "id": "QpID1X_o-mVL"
   },
   "outputs": [],
   "source": [
    "from __future__ import print_function, division # Gunakan print(...) dan bukan print ...\n",
    "import matplotlib.pyplot as plt\n",
    "import numpy as np\n",
    "import pandas as pd\n",
    "import seaborn as sns\n",
    "\n",
    "from sklearn.datasets import load_digits\n",
    "from sklearn.cluster import KMeans\n",
    "from sklearn.metrics import accuracy_score, confusion_matrix, mean_squared_error\n",
    "from sklearn.model_selection import cross_val_score, train_test_split\n",
    "from sklearn.neighbors import KNeighborsClassifier, KNeighborsRegressor\n",
    "\n",
    "%matplotlib inline\n",
    "\n",
    "RANDOM_STATE = 1337\n",
    "np.random.seed(RANDOM_STATE)"
   ]
  },
  {
   "cell_type": "markdown",
   "metadata": {
    "colab_type": "text",
    "id": "mUsqyDND-mVb"
   },
   "source": [
    "## 1. Eksplorasi Awal Data (10 poin)\n",
    "\n",
    "Pada bagian ini, Anda diminta untuk mengeksplorasi data latih yang diberikan. Selalu gunakan data ini kecuali diberitahukan sebaliknya."
   ]
  },
  {
   "cell_type": "code",
   "execution_count": 20,
   "metadata": {
    "colab": {},
    "colab_type": "code",
    "id": "7hCLwjSc-mVf"
   },
   "outputs": [],
   "source": [
    "X, y = load_digits(return_X_y=True)"
   ]
  },
  {
   "cell_type": "code",
   "execution_count": 21,
   "metadata": {},
   "outputs": [
    {
     "data": {
      "text/plain": [
       "array([[ 0.,  0.,  5., ...,  0.,  0.,  0.],\n",
       "       [ 0.,  0.,  0., ..., 10.,  0.,  0.],\n",
       "       [ 0.,  0.,  0., ..., 16.,  9.,  0.],\n",
       "       ...,\n",
       "       [ 0.,  0.,  1., ...,  6.,  0.,  0.],\n",
       "       [ 0.,  0.,  2., ..., 12.,  0.,  0.],\n",
       "       [ 0.,  0., 10., ..., 12.,  1.,  0.]])"
      ]
     },
     "execution_count": 21,
     "metadata": {},
     "output_type": "execute_result"
    }
   ],
   "source": [
    "X"
   ]
  },
  {
   "cell_type": "markdown",
   "metadata": {
    "colab_type": "text",
    "id": "DjS_sDBA-mVn"
   },
   "source": [
    "### Soal 1.1.a (2 poin)\n",
    "\n",
    "Pisahkan dataset Anda menjadi `X_train`, `X_test`, `y_train`, dan `y_test` dengan `train_test_split()`. Pastikan bahwa data uji Anda terdiri dari 30% total data."
   ]
  },
  {
   "cell_type": "code",
   "execution_count": 4,
   "metadata": {
    "colab": {},
    "colab_type": "code",
    "id": "ojv-zmU1-mVq"
   },
   "outputs": [],
   "source": [
    "X_train, X_test, y_train, y_test = train_test_split (X,y, train_size = 0.7, test_size = 0.3, random_state = RANDOM_STATE)"
   ]
  },
  {
   "cell_type": "markdown",
   "metadata": {
    "colab_type": "text",
    "id": "plPoS-bg-mVz"
   },
   "source": [
    "### Soal 1.1.b (2 poin)\n",
    "\n",
    "Tunjukkan jumlah objek untuk masing-masing kelas dari `y_train` dan `y_test` dalam *bar plot*."
   ]
  },
  {
   "cell_type": "code",
   "execution_count": 5,
   "metadata": {
    "colab": {
     "base_uri": "https://localhost:8080/",
     "height": 320
    },
    "colab_type": "code",
    "id": "rgtIsmE9-mV4",
    "outputId": "31f909d2-f1d9-4cbb-bc70-58209f53e538"
   },
   "outputs": [
    {
     "data": {
      "text/plain": [
       "<matplotlib.axes._subplots.AxesSubplot at 0x2642e20a4e0>"
      ]
     },
     "execution_count": 5,
     "metadata": {},
     "output_type": "execute_result"
    },
    {
     "data": {
      "image/png": "[encoded data removed]",
      "text/plain": [
       "<Figure size 432x288 with 1 Axes>"
      ]
     },
     "metadata": {
      "needs_background": "light"
     },
     "output_type": "display_data"
    }
   ],
   "source": [
    "i = np.array([y_train])\n",
    "unique_elements, counts_elements = np.unique(i, return_counts=True)\n",
    "sns.barplot(unique_elements, counts_elements, palette=\"hot\")"
   ]
  },
  {
   "cell_type": "code",
   "execution_count": 6,
   "metadata": {
    "colab": {
     "base_uri": "https://localhost:8080/",
     "height": 320
    },
    "colab_type": "code",
    "id": "kUUgxdRy-mWH",
    "outputId": "530940a2-e340-4549-adad-c4dcad2bf4a2"
   },
   "outputs": [
    {
     "data": {
      "text/plain": [
       "<matplotlib.axes._subplots.AxesSubplot at 0x2642e22b898>"
      ]
     },
     "execution_count": 6,
     "metadata": {},
     "output_type": "execute_result"
    },
    {
     "data": {
      "image/png": "[encoded data removed]",
      "text/plain": [
       "<Figure size 432x288 with 1 Axes>"
      ]
     },
     "metadata": {
      "needs_background": "light"
     },
     "output_type": "display_data"
    }
   ],
   "source": [
    "j = np.array([y_test])\n",
    "unique_elements, counts_elements = np.unique(j, return_counts=True)\n",
    "sns.barplot(unique_elements, counts_elements, palette=\"cool\")"
   ]
  },
  {
   "cell_type": "markdown",
   "metadata": {
    "colab_type": "text",
    "id": "QffpHTMd-mWQ"
   },
   "source": [
    "Referensi :\n",
    "https://matplotlib.org/examples/api/barchart_demo.html"
   ]
  },
  {
   "cell_type": "markdown",
   "metadata": {
    "colab_type": "text",
    "id": "TBHiogZo-mWU"
   },
   "source": [
    "### Soal 1.2 (3 poin)\n",
    "\n",
    "Gambarkan histogram dari pixel ke-0 (pojok kiri atas) dan ke-4. Perbedaan apa yang dapat Anda lihat? Mengapa hasilnya seperti itu?"
   ]
  },
  {
   "cell_type": "code",
   "execution_count": 7,
   "metadata": {
    "colab": {
     "base_uri": "https://localhost:8080/",
     "height": 312
    },
    "colab_type": "code",
    "id": "Aq65sEyp-mWX",
    "outputId": "d67c2899-ba0b-492d-965e-5e4840c22d30"
   },
   "outputs": [
    {
     "data": {
      "text/plain": [
       "Text(0, 0.5, 'Frequency')"
      ]
     },
     "execution_count": 7,
     "metadata": {},
     "output_type": "execute_result"
    },
    {
     "data": {
      "image/png": "[encoded data removed]",
      "text/plain": [
       "<Figure size 432x288 with 1 Axes>"
      ]
     },
     "metadata": {
      "needs_background": "light"
     },
     "output_type": "display_data"
    }
   ],
   "source": [
    "a = X[0]\n",
    "b = X[4]\n",
    "plt.hist([a, y], facecolor='#0cf913', label='pixel 0')\n",
    "plt.hist([b, y], facecolor='cyan', label='pixel 4')\n",
    "plt.title(\"Histogram\")\n",
    "plt.xlabel(\"Value\")\n",
    "plt.ylabel(\"Frequency\")"
   ]
  },
  {
   "cell_type": "markdown",
   "metadata": {
    "colab_type": "text",
    "id": "L374rJ44-mWm"
   },
   "source": [
    "*Referensi https://plot.ly/matplotlib/histograms/*"
   ]
  },
  {
   "cell_type": "markdown",
   "metadata": {
    "colab_type": "text",
    "id": "30acusXv-mWv"
   },
   "source": [
    "*Pada pixel 0 (warna hijau), diketahui bahwa frequencynya lebih banyak hingga value <10, sedangkan pixel 4 (warna cyan), diketahui bahwa datanya dari value 0-15 cukup stabil frequencynya*"
   ]
  },
  {
   "cell_type": "markdown",
   "metadata": {
    "colab_type": "text",
    "id": "TVnWp3pv-mWx"
   },
   "source": [
    "### Soal 1.3 (3 poin)\n",
    "\n",
    "Ambil 10 sampel gambar dari `X_train`, lalu tampilkan gambarnya."
   ]
  },
  {
   "cell_type": "code",
   "execution_count": 8,
   "metadata": {
    "colab": {
     "base_uri": "https://localhost:8080/",
     "height": 335
    },
    "colab_type": "code",
    "id": "4FZvGL1Q-mWy",
    "outputId": "8b008a0d-3b61-44a0-b383-96f932be6b19"
   },
   "outputs": [
    {
     "data": {
      "image/png": "[encoded data removed]",
      "text/plain": [
       "<Figure size 1440x360 with 10 Axes>"
      ]
     },
     "metadata": {
      "needs_background": "light"
     },
     "output_type": "display_data"
    }
   ],
   "source": [
    "no_class = 10\n",
    "fig, axes = plt.subplots(2,5,figsize=(20,5))\n",
    "for ax, i in zip(axes.flatten(), range(no_class)):\n",
    "    index = np.where(y_train==i)\n",
    "    ax.set_title('Angka {}'.format(i))\n",
    "    ax.imshow(X_train[index][0].reshape(8,8), cmap='hot')\n",
    "plt.show()"
   ]
  },
  {
   "cell_type": "markdown",
   "metadata": {
    "colab_type": "text",
    "id": "7GOv8Eij-mW6"
   },
   "source": [
    "## 2. k-Nearest Neighbours (10 poin)\n",
    "\n",
    "Anda akan melakukan klasifikasi digit tersebut dengan menggunakan algoritma k-NN."
   ]
  },
  {
   "cell_type": "markdown",
   "metadata": {
    "colab_type": "text",
    "id": "HY0DHqHM-mW9"
   },
   "source": [
    "### Soal 2.1.a (5 poin)\n",
    "\n",
    "Dengan k-Nearest Neighbours, klasifikasikan data latih dengan menggunakan *cross-validation* (`cross_val_score()`) dan $k \\in [1,10]$, lalu gambarkan *line plot* perubahan akurasi rata-ratanya! Jangan lupa untuk memberikan label pada sumbu-sumbunya!"
   ]
  },
  {
   "cell_type": "code",
   "execution_count": 9,
   "metadata": {
    "colab": {
     "base_uri": "https://localhost:8080/",
     "height": 283
    },
    "colab_type": "code",
    "id": "ltY5RWJW-mXB",
    "outputId": "ba01cdd8-00c0-4b07-b25f-aae7fa2de9c2"
   },
   "outputs": [
    {
     "name": "stderr",
     "output_type": "stream",
     "text": [
      "C:\\Users\\Aditya\\Anaconda3\\lib\\site-packages\\sklearn\\model_selection\\_split.py:2053: FutureWarning: You should specify a value for 'cv' instead of relying on the default value. The default value will change from 3 to 5 in version 0.22.\n",
      "  warnings.warn(CV_WARNING, FutureWarning)\n",
      "C:\\Users\\Aditya\\Anaconda3\\lib\\site-packages\\sklearn\\model_selection\\_split.py:2053: FutureWarning: You should specify a value for 'cv' instead of relying on the default value. The default value will change from 3 to 5 in version 0.22.\n",
      "  warnings.warn(CV_WARNING, FutureWarning)\n",
      "C:\\Users\\Aditya\\Anaconda3\\lib\\site-packages\\sklearn\\model_selection\\_split.py:2053: FutureWarning: You should specify a value for 'cv' instead of relying on the default value. The default value will change from 3 to 5 in version 0.22.\n",
      "  warnings.warn(CV_WARNING, FutureWarning)\n",
      "C:\\Users\\Aditya\\Anaconda3\\lib\\site-packages\\sklearn\\model_selection\\_split.py:2053: FutureWarning: You should specify a value for 'cv' instead of relying on the default value. The default value will change from 3 to 5 in version 0.22.\n",
      "  warnings.warn(CV_WARNING, FutureWarning)\n",
      "C:\\Users\\Aditya\\Anaconda3\\lib\\site-packages\\sklearn\\model_selection\\_split.py:2053: FutureWarning: You should specify a value for 'cv' instead of relying on the default value. The default value will change from 3 to 5 in version 0.22.\n",
      "  warnings.warn(CV_WARNING, FutureWarning)\n",
      "C:\\Users\\Aditya\\Anaconda3\\lib\\site-packages\\sklearn\\model_selection\\_split.py:2053: FutureWarning: You should specify a value for 'cv' instead of relying on the default value. The default value will change from 3 to 5 in version 0.22.\n",
      "  warnings.warn(CV_WARNING, FutureWarning)\n",
      "C:\\Users\\Aditya\\Anaconda3\\lib\\site-packages\\sklearn\\model_selection\\_split.py:2053: FutureWarning: You should specify a value for 'cv' instead of relying on the default value. The default value will change from 3 to 5 in version 0.22.\n",
      "  warnings.warn(CV_WARNING, FutureWarning)\n",
      "C:\\Users\\Aditya\\Anaconda3\\lib\\site-packages\\sklearn\\model_selection\\_split.py:2053: FutureWarning: You should specify a value for 'cv' instead of relying on the default value. The default value will change from 3 to 5 in version 0.22.\n",
      "  warnings.warn(CV_WARNING, FutureWarning)\n",
      "C:\\Users\\Aditya\\Anaconda3\\lib\\site-packages\\sklearn\\model_selection\\_split.py:2053: FutureWarning: You should specify a value for 'cv' instead of relying on the default value. The default value will change from 3 to 5 in version 0.22.\n",
      "  warnings.warn(CV_WARNING, FutureWarning)\n",
      "C:\\Users\\Aditya\\Anaconda3\\lib\\site-packages\\sklearn\\model_selection\\_split.py:2053: FutureWarning: You should specify a value for 'cv' instead of relying on the default value. The default value will change from 3 to 5 in version 0.22.\n",
      "  warnings.warn(CV_WARNING, FutureWarning)\n"
     ]
    },
    {
     "data": {
      "image/png": "[encoded data removed]",
      "text/plain": [
       "<Figure size 432x288 with 1 Axes>"
      ]
     },
     "metadata": {
      "needs_background": "light"
     },
     "output_type": "display_data"
    }
   ],
   "source": [
    "acc = []\n",
    "for k in range(1,11):\n",
    "    knn = KNeighborsClassifier(k)\n",
    "    knn.fit(X_train, y_train)\n",
    "    crossvalscore = cross_val_score(knn, X_train, y_train, scoring='accuracy')\n",
    "    acc.append(crossvalscore.mean())\n",
    "\n",
    "plt.plot(range(1,11), acc, color='r')\n",
    "plt.xlabel('k')\n",
    "plt.ylabel('accuracy');"
   ]
  },
  {
   "cell_type": "markdown",
   "metadata": {
    "colab_type": "text",
    "id": "y-grlNXZ-mXI"
   },
   "source": [
    "*Referensi Lab 3 AI*"
   ]
  },
  {
   "cell_type": "markdown",
   "metadata": {
    "colab_type": "text",
    "id": "LNXpTyC5-mXK"
   },
   "source": [
    "### Soal 2.1.b (2 poin)\n",
    "\n",
    "Dari plot tersebut, berapa nilai $k$ yang akan Anda pilih? Mengapa?"
   ]
  },
  {
   "cell_type": "markdown",
   "metadata": {
    "colab_type": "text",
    "id": "pTO7MNq4-mXR"
   },
   "source": [
    "*k yang saya pilih adalah 3, karena nilai accuracynya yang tinggi dan juga memiliki lebih dari 1 cluster*"
   ]
  },
  {
   "cell_type": "markdown",
   "metadata": {
    "colab_type": "text",
    "id": "j4FAG1ZZ-mXU"
   },
   "source": [
    "### Soal 2.1.c (3 poin)\n",
    "\n",
    "Dari nilai $k$ yang Anda pilih, buatlah *heatmap* dari *confusion matrix* yang diperoleh dari klasifikasi data ujinya! Jangan lupa untuk memberikan label untuk masing-masing sumbunya dan menganotasi tiap kotak pada *heatmap*. Sertakan juga nilai akurasinya."
   ]
  },
  {
   "cell_type": "code",
   "execution_count": 10,
   "metadata": {
    "colab": {
     "base_uri": "https://localhost:8080/",
     "height": 280
    },
    "colab_type": "code",
    "id": "qsFdxUDB-mXX",
    "outputId": "15646326-e358-4c75-c5f2-167a3a0fdc82"
   },
   "outputs": [
    {
     "data": {
      "image/png": "[encoded data removed]",
      "text/plain": [
       "<Figure size 432x288 with 2 Axes>"
      ]
     },
     "metadata": {
      "needs_background": "light"
     },
     "output_type": "display_data"
    }
   ],
   "source": [
    "knn = KNeighborsClassifier(n_neighbors = 3)\n",
    "knn.fit(X_train, y_train)\n",
    "\n",
    "y_pred = knn.predict(X_test)\n",
    "\n",
    "confmat = confusion_matrix(y_test, y_pred)\n",
    "\n",
    "ax = sns.heatmap(confmat, annot=True, cmap='hot')\n",
    "ax.set_xlabel ('y_test')\n",
    "ax.set_ylabel ('y_pred')\n",
    "plt.show()"
   ]
  },
  {
   "cell_type": "markdown",
   "metadata": {
    "colab_type": "text",
    "id": "pZ0Q9skc-mXb"
   },
   "source": [
    "*Referensi : https://seaborn.pydata.org/generated/seaborn.heatmap.html*"
   ]
  },
  {
   "cell_type": "markdown",
   "metadata": {
    "colab_type": "text",
    "id": "rGfQTQEk-mXd"
   },
   "source": [
    "### Soal 2.2 (2 poin)\n",
    "\n",
    "Mengapa k-NN disebut sebagai algoritma klasifikasi non-parametrik? Apa yang membedakannya dengan algoritma klasifikasi parametrik?"
   ]
  },
  {
   "cell_type": "markdown",
   "metadata": {
    "colab_type": "text",
    "id": "WXrrj4rA-mXf"
   },
   "source": [
    "*Karena k-NN tidak memiliki batasan pada saat pembelajaran (tidak adanya asumsi tentang fungsi pemetaannya), sedangkan klasifikasi parametrik memerlukan asumsi guna menyederhakan proses pembelajaran. KNN hanya melihat pada jarak terdekat nya saja tanpa ada parameter yang perlu dicari.*"
   ]
  },
  {
   "cell_type": "markdown",
   "metadata": {
    "colab_type": "text",
    "id": "t80DJsqE-mXn"
   },
   "source": [
    "## 3. k-NN Regression (10 poin)\n",
    "\n",
    "Terkadang, gambar yang kita miliki mengalami kerusakan. Salah satu cara untuk memperbaikinya adalah dengan memprediksi pixel yang rusak tersebut dengan pixels yang kita miliki. Untuk memahami kasus ini lebih baik, Anda dapat melihat contohnya di [sini](http://scikit-learn.org/stable/auto_examples/plot_multioutput_face_completion.html)."
   ]
  },
  {
   "cell_type": "markdown",
   "metadata": {
    "colab_type": "text",
    "id": "D_8by-rv-mXq"
   },
   "source": [
    "### Soal 3.1 (2 poin)\n",
    "\n",
    "Anggap saja pixel ke-42 mengalami kerusakan sehingga akan Anda prediksi. Oleh karena itu, Anda akan mencoba melakukan regresi dengan mengambil pixel di kiri dan di atas dari pixel ke-42, i.e. pixel ke-41 dan ke-34. Buatlah data latih dan data uji baru dengan menggunakan ide ini."
   ]
  },
  {
   "cell_type": "code",
   "execution_count": 11,
   "metadata": {
    "colab": {
     "base_uri": "https://localhost:8080/",
     "height": 72
    },
    "colab_type": "code",
    "id": "D79XtPHz-mXt",
    "outputId": "29ff85e1-3260-405e-9f91-083aa1080d9a"
   },
   "outputs": [
    {
     "data": {
      "text/plain": [
       "KNeighborsRegressor(algorithm='auto', leaf_size=30, metric='minkowski',\n",
       "          metric_params=None, n_jobs=None, n_neighbors=5, p=2,\n",
       "          weights='uniform')"
      ]
     },
     "execution_count": 11,
     "metadata": {},
     "output_type": "execute_result"
    }
   ],
   "source": [
    "KNeighborsRegressor(n_neighbors=5, weights='uniform', algorithm='auto', leaf_size=30, p=2, metric='minkowski', metric_params=None, n_jobs=None)"
   ]
  },
  {
   "cell_type": "markdown",
   "metadata": {
    "colab_type": "text",
    "id": "KmZc9P31-mX3"
   },
   "source": [
    "### Soal 3.2 (5 poin)\n",
    "\n",
    "Lakukan *cross-validation* pada data latih untuk regresi dengan k-NN guna memprediksi nilai pixel ke-42 untuk $k \\in [1,10]$ lalu laporkan RMSE-nya dalam bentuk *line plot*. Apa yang dapat Anda amati?"
   ]
  },
  {
   "cell_type": "code",
   "execution_count": 12,
   "metadata": {
    "colab": {
     "base_uri": "https://localhost:8080/",
     "height": 282
    },
    "colab_type": "code",
    "id": "GhovIlM4-mX5",
    "outputId": "ada2871c-6ae7-460f-ecec-4bb7932c4289"
   },
   "outputs": [
    {
     "data": {
      "image/png": "[encoded data removed]",
      "text/plain": [
       "<Figure size 432x288 with 1 Axes>"
      ]
     },
     "metadata": {
      "needs_background": "light"
     },
     "output_type": "display_data"
    }
   ],
   "source": [
    "mse=[]\n",
    "\n",
    "for k in list(range(1,11)):\n",
    "    knr = KNeighborsRegressor(k)\n",
    "    knr.fit(X_train, y_train)\n",
    "    y_pred = knr.predict(X_test)\n",
    "    mse.append(mean_squared_error(y_test,y_pred))\n",
    "\n",
    "plt.xlabel(\"Nilai K\")\n",
    "plt.ylabel(\"MSE\")\n",
    "plt.plot(range(1,11), mse , color=\"Red\")\n",
    "plt.show()"
   ]
  },
  {
   "cell_type": "markdown",
   "metadata": {
    "colab_type": "text",
    "id": "veQq-oOn-mX-"
   },
   "source": [
    "*Dapat diketahui bahwa pada K=2 dan K=4 merupakan K terbaik, karena nilai msenya lebih mendekati nilai 0, dibandingkan dengan nilai K yang lain*"
   ]
  },
  {
   "cell_type": "markdown",
   "metadata": {
    "colab_type": "text",
    "id": "QFxlRTvo-mYO"
   },
   "source": [
    "### Soal 3.3 (3 poin)\n",
    "\n",
    "Pilih dua nilai $k$ terbaik. Lalu coba lakukan regresi pada data uji yang telah dibuat. Apa pendapat Anda terhadap hasil yang Anda dapatkan ini?"
   ]
  },
  {
   "cell_type": "code",
   "execution_count": 13,
   "metadata": {
    "colab": {},
    "colab_type": "code",
    "id": "Srem0kck-mYV"
   },
   "outputs": [],
   "source": [
    "#mse = []\n",
    "#knr = KNeighborsRegressor()\n",
    "#knr.fit(X_train, y_train)\n",
    "#y_pred = knr.predict(X_test)\n",
    "#mse.append(mean_squared_error(y_test, y_pred))\n",
    "\n",
    "#plt.plot(range(1,11), mse);"
   ]
  },
  {
   "cell_type": "markdown",
   "metadata": {
    "colab_type": "text",
    "id": "2dThQFp0-mYl"
   },
   "source": [
    "## 4. k-Means (20 poin)"
   ]
  },
  {
   "cell_type": "markdown",
   "metadata": {
    "colab_type": "text",
    "id": "UbUIQulb-mYj"
   },
   "source": [
    "*Jawaban Anda di sini*"
   ]
  },
  {
   "cell_type": "markdown",
   "metadata": {
    "colab_type": "text",
    "id": "EYBy51YC-mYp"
   },
   "source": [
    "### Soal 4.1.a (2 poin)\n",
    "\n",
    "Gunakan `KMeans` untuk melakukan *clustering* dengan $k=10$."
   ]
  },
  {
   "cell_type": "markdown",
   "metadata": {
    "colab_type": "text",
    "id": "gg4FhMP9-mYw"
   },
   "source": [
    "*Referensi http://nbviewer.jupyter.org/github/jakevdp/PythonDataScienceHandbook/blob/master/notebooks/05.11-K-Means.ipynb*"
   ]
  },
  {
   "cell_type": "code",
   "execution_count": 14,
   "metadata": {
    "colab": {
     "base_uri": "https://localhost:8080/",
     "height": 35
    },
    "colab_type": "code",
    "id": "lc2Fn0G_-mYr",
    "outputId": "44780260-ca21-4101-dc05-7c8d1d819602"
   },
   "outputs": [
    {
     "data": {
      "text/plain": [
       "array([0, 8, 6, ..., 0, 4, 8])"
      ]
     },
     "execution_count": 14,
     "metadata": {},
     "output_type": "execute_result"
    }
   ],
   "source": [
    "model = KMeans(n_clusters=10, random_state=RANDOM_STATE).fit(X_train)\n",
    "model.fit_predict(X_train)"
   ]
  },
  {
   "cell_type": "code",
   "execution_count": 22,
   "metadata": {},
   "outputs": [
    {
     "data": {
      "text/plain": [
       "array([[ 0.,  0.,  1., ...,  0.,  0.,  0.],\n",
       "       [ 0.,  0.,  4., ...,  3.,  0.,  0.],\n",
       "       [ 0.,  0.,  0., ...,  3.,  0.,  0.],\n",
       "       ...,\n",
       "       [ 0.,  0.,  9., ..., 16.,  2.,  0.],\n",
       "       [ 0.,  4., 12., ...,  6.,  0.,  0.],\n",
       "       [ 0.,  0., 10., ...,  0.,  0.,  0.]])"
      ]
     },
     "execution_count": 22,
     "metadata": {},
     "output_type": "execute_result"
    }
   ],
   "source": [
    "X_train"
   ]
  },
  {
   "cell_type": "markdown",
   "metadata": {
    "colab_type": "text",
    "id": "uUYFpkRl-mYz"
   },
   "source": [
    "### Soal 4.1.b (4 poin)\n",
    "\n",
    "Dari hasil *clustering* yang telah Anda lakukan, coba gambarkan *centroids*-nya dari atribut `cluster_centers_` yang dihasilkan dari objek `KMeans` menggunakan `imshow()`. Ubah ukuran dimensi tiap *centroid* menjadi 8x8. Apa yang dapat Anda amati?"
   ]
  },
  {
   "cell_type": "code",
   "execution_count": 16,
   "metadata": {
    "colab": {
     "base_uri": "https://localhost:8080/",
     "height": 303
    },
    "colab_type": "code",
    "id": "9iFE7NUF-mY2",
    "outputId": "b1bd5ba8-b53b-4a74-dd90-f27c45c63ae0"
   },
   "outputs": [
    {
     "data": {
      "image/png": "[encoded data removed]",
      "text/plain": [
       "<Figure size 1440x360 with 10 Axes>"
      ]
     },
     "metadata": {},
     "output_type": "display_data"
    }
   ],
   "source": [
    "clusters = model.fit(X_train)\n",
    "model.cluster_centers_.shape\n",
    "fig, ax = plt.subplots(2,5,figsize=(20,5))\n",
    "centers = model.cluster_centers_.reshape(10, 8, 8)\n",
    "for axi, center in zip(ax.flat, centers):\n",
    "    axi.set(xticks=[], yticks=[])\n",
    "    axi.imshow(center, interpolation='nearest', cmap='hot')"
   ]
  },
  {
   "cell_type": "markdown",
   "metadata": {
    "colab_type": "text",
    "id": "MOkfJVoo-mZQ"
   },
   "source": [
    "*Saya dapat mengamati beragam gambar dari dataset yang telah diberikan model KMeans*"
   ]
  },
  {
   "cell_type": "markdown",
   "metadata": {
    "colab_type": "text",
    "id": "ajrwe_Mt-mZR"
   },
   "source": [
    "### Soal 4.2 (4 poin)\n",
    "\n",
    "Lakukan kembali *clustering* dengan `KMeans`, tapi kali ini gunakan nilai $k \\in [5,15]$. Laporkan nilai inertia dari proses *clustering* dalam *scree plot*. Mengapa *scree plot*-nya seperti itu?"
   ]
  },
  {
   "cell_type": "code",
   "execution_count": 17,
   "metadata": {
    "colab": {
     "base_uri": "https://localhost:8080/",
     "height": 279
    },
    "colab_type": "code",
    "id": "bzyvyr2D-mZS",
    "outputId": "72be53ad-871c-4f8d-a719-086821d4e163"
   },
   "outputs": [
    {
     "data": {
      "image/png": "[encoded data removed]",
      "text/plain": [
       "<Figure size 432x288 with 1 Axes>"
      ]
     },
     "metadata": {
      "needs_background": "light"
     },
     "output_type": "display_data"
    }
   ],
   "source": [
    "v= []\n",
    "for i in range(5,16):\n",
    "    kmeans = KMeans(n_clusters=i)\n",
    "    kmeans.fit(X_train)\n",
    "    v.append(kmeans.inertia_)\n",
    "\n",
    "plt.plot(range(5,16), v, 'o-')\n",
    "plt.xticks(range(5,16))\n",
    "plt.xlabel('# Clusters')\n",
    "plt.ylabel('Aggregate Distance')\n",
    "plt.show()"
   ]
  },
  {
   "cell_type": "markdown",
   "metadata": {
    "colab_type": "text",
    "id": "zuoroOeX-mZY"
   },
   "source": [
    "*Semakin banyaknya cluster, maka semakin dekat pula jarak untuk ke titik centroid*"
   ]
  },
  {
   "cell_type": "markdown",
   "metadata": {
    "colab_type": "text",
    "id": "ScqUuVVj-mZa"
   },
   "source": [
    "### Soal 4.3.a (4 poin)\n",
    "\n",
    "Coba lakukan klasifikasi dengan memanfaatkan algoritma k-Means. Perhatikan bahwa saat akan membandingkan label, Anda harus melakukan *class assignment* untuk tiap klaster secara *greedy*. Laporkan akurasi yang dihasilkan dengan metode ini."
   ]
  },
  {
   "cell_type": "code",
   "execution_count": 18,
   "metadata": {
    "colab": {
     "base_uri": "https://localhost:8080/",
     "height": 35
    },
    "colab_type": "code",
    "id": "n8eG3bM_-mZc",
    "outputId": "fd44830f-fd21-441a-b56c-1c5d67517151"
   },
   "outputs": [
    {
     "name": "stdout",
     "output_type": "stream",
     "text": [
      "Akurasinya =  0.22407407407407406\n"
     ]
    }
   ],
   "source": [
    "kmeans = KMeans(n_clusters=10, random_state=RANDOM_STATE)\n",
    "kmeans.fit(X)\n",
    "lable = kmeans.predict(X_test)\n",
    "accuracy = accuracy_score(lable,y_test)\n",
    "\n",
    "print(\"Akurasinya = \", accuracy)"
   ]
  },
  {
   "cell_type": "markdown",
   "metadata": {
    "colab_type": "text",
    "id": "0SETH55J-mZg"
   },
   "source": [
    "### Soal 4.3.b (2 poin)\n",
    "\n",
    "Gambarkan *heatmap* dari *confusion matrix* yang dihasilkan dari klasifikasi di atas. Jangan lupa untuk memberikan label yang sesuai untuk tiap sumbunya."
   ]
  },
  {
   "cell_type": "code",
   "execution_count": 19,
   "metadata": {
    "colab": {
     "base_uri": "https://localhost:8080/",
     "height": 361
    },
    "colab_type": "code",
    "id": "Ce3LSF7X-mZg",
    "outputId": "7569f833-8e15-45d3-dd06-4c605148f555"
   },
   "outputs": [
    {
     "data": {
      "image/png": "[encoded data removed]",
      "text/plain": [
       "<Figure size 432x288 with 2 Axes>"
      ]
     },
     "metadata": {
      "needs_background": "light"
     },
     "output_type": "display_data"
    }
   ],
   "source": [
    "model.fit(X_train, y_train)\n",
    "\n",
    "y_pred = model.predict(X_test)\n",
    "\n",
    "confmat = confusion_matrix(y_test, y_pred)\n",
    "\n",
    "ax = sns.heatmap(confmat, annot=True, cmap='hot')\n",
    "ax.set_xlabel ('y_test')\n",
    "ax.set_ylabel ('y_pred')\n",
    "plt.show()"
   ]
  },
  {
   "cell_type": "markdown",
   "metadata": {
    "colab_type": "text",
    "id": "Pk9t0EYv-mZl"
   },
   "source": [
    "### Soal 4.4 (4 poin)\n",
    "\n",
    "Berikan kesimpulan dari eksplorasi yang telah Anda lakukan dalam keseluruhan tugas ini."
   ]
  },
  {
   "cell_type": "markdown",
   "metadata": {
    "colab_type": "text",
    "id": "r9YNnq6L-mZn"
   },
   "source": [
    "*Dari kesuluruhan tugas ini adalah bahwa k-NN merupakan algoritma yang cocok untuk klasifikasi dan regresi dan bersifat non-parametrik, serta perlu adanya validasi nilai k, sedangkan k-Means merupakan algoritma yang cocok untuk clustering dan sangat bergantung pada inisialisasi centroid*"
   ]
  }
 ],
 "metadata": {
  "colab": {
   "name": "tugas2_0102516002.ipynb",
   "provenance": [],
   "version": "0.3.2"
  },
  "kernelspec": {
   "display_name": "Python 3",
   "language": "python",
   "name": "python3"
  },
  "language_info": {
   "codemirror_mode": {
    "name": "ipython",
    "version": 3
   },
   "file_extension": ".py",
   "mimetype": "text/x-python",
   "name": "python",
   "nbconvert_exporter": "python",
   "pygments_lexer": "ipython3",
   "version": "3.6.8"
  }
 },
 "nbformat": 4,
 "nbformat_minor": 1
}
